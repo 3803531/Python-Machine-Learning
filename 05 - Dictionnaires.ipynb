{
  "nbformat": 4,
  "nbformat_minor": 0,
  "metadata": {
    "colab": {
      "name": "Untitled2.ipynb",
      "provenance": [],
      "authorship_tag": "ABX9TyORUSTiDA8mqmJXxXZVOgg0",
      "include_colab_link": true
    },
    "kernelspec": {
      "name": "python3",
      "display_name": "Python 3"
    }
  },
  "cells": [
    {
      "cell_type": "markdown",
      "metadata": {
        "id": "view-in-github",
        "colab_type": "text"
      },
      "source": [
        "<a href=\"https://colab.research.google.com/github/MachineLearnia/Python-tutoriel/blob/master/05%20-%20Dictionnaires.ipynb\" target=\"_parent\"><img src=\"https://colab.research.google.com/assets/colab-badge.svg\" alt=\"Open In Colab\"/></a>"
      ]
    },
    {
      "cell_type": "markdown",
      "metadata": {
        "id": "joYmh7TZyu-I",
        "colab_type": "text"
      },
      "source": [
        "# 5/30 - Dictionnaires\n",
        "Les dictionnaires sont des structures de controle **non-ordonnées**, c'est-a-dire que les valeurs qu'ils contiennent ne sont pas rangée selon un index, mais suivant une **clef unique**.\n",
        "\n",
        "Une utilisation parfaite des dictionnaires est pour regrouper ensemble des \"variables\" dans un meme conténaire. (ces variables ne sont pas de vraies variables, mais des **keys**).\n",
        "\n",
        "*On peut par exemple crée un dictionnaire inventaire qui regroupe plusieurs produits (les clefs) et leur quantités (les valeurs)*"
      ]
    },
    {
      "cell_type": "code",
      "metadata": {
        "id": "IxAbYNGyypdD",
        "colab_type": "code",
        "colab": {}
      },
      "source": [
        "inventaire = {'pommes': 100,\n",
        "              'bananes': 80,\n",
        "              'poires': 120}"
      ],
      "execution_count": 0,
      "outputs": []
    },
    {
      "cell_type": "code",
      "metadata": {
        "id": "KIMrwYSF0WOx",
        "colab_type": "code",
        "colab": {
          "base_uri": "https://localhost:8080/",
          "height": 34
        },
        "outputId": "cee9251a-28a1-4013-86fd-87fc1d9bfe8b"
      },
      "source": [
        "inventaire.values()"
      ],
      "execution_count": 2,
      "outputs": [
        {
          "output_type": "execute_result",
          "data": {
            "text/plain": [
              "dict_values([100, 80, 120])"
            ]
          },
          "metadata": {
            "tags": []
          },
          "execution_count": 2
        }
      ]
    },
    {
      "cell_type": "code",
      "metadata": {
        "id": "kiVf5n2J0Yxa",
        "colab_type": "code",
        "colab": {
          "base_uri": "https://localhost:8080/",
          "height": 34
        },
        "outputId": "c23035ca-23be-4285-fee1-073cca94819c"
      },
      "source": [
        "inventaire.keys()"
      ],
      "execution_count": 3,
      "outputs": [
        {
          "output_type": "execute_result",
          "data": {
            "text/plain": [
              "dict_keys(['pommes', 'bananes', 'poires'])"
            ]
          },
          "metadata": {
            "tags": []
          },
          "execution_count": 3
        }
      ]
    },
    {
      "cell_type": "code",
      "metadata": {
        "id": "buwMNYZ40agi",
        "colab_type": "code",
        "colab": {
          "base_uri": "https://localhost:8080/",
          "height": 34
        },
        "outputId": "94f1100e-2720-4145-f004-df3a9d14ccef"
      },
      "source": [
        "len(inventaire)"
      ],
      "execution_count": 4,
      "outputs": [
        {
          "output_type": "execute_result",
          "data": {
            "text/plain": [
              "3"
            ]
          },
          "metadata": {
            "tags": []
          },
          "execution_count": 4
        }
      ]
    },
    {
      "cell_type": "markdown",
      "metadata": {
        "id": "P3tAq8GJ0idV",
        "colab_type": "text"
      },
      "source": [
        "Voici comment ajouter une association key/value dans notre dictionnaire (attention si la clef existe déja elle est remplacée)"
      ]
    },
    {
      "cell_type": "code",
      "metadata": {
        "id": "0cPXXWkY0eCZ",
        "colab_type": "code",
        "colab": {
          "base_uri": "https://localhost:8080/",
          "height": 34
        },
        "outputId": "009e79bf-ade5-46d5-9713-cbba69d38bd9"
      },
      "source": [
        "inventaire['abricots'] = 30\n",
        "print(inventaire)"
      ],
      "execution_count": 19,
      "outputs": [
        {
          "output_type": "stream",
          "text": [
            "{'pommes': 100, 'bananes': 80, 'poires': 120, 'abricots': 30}\n"
          ],
          "name": "stdout"
        }
      ]
    },
    {
      "cell_type": "markdown",
      "metadata": {
        "id": "tCIkswDN1L9m",
        "colab_type": "text"
      },
      "source": [
        "Attention : si vous cherchez une clef qui n'existe pas dans un dictionnaire, python vous retourne une erreur. Pour éviter cela, vous pouvez utiliser la méthode **get()**"
      ]
    },
    {
      "cell_type": "code",
      "metadata": {
        "id": "8v_RHt9F1KGx",
        "colab_type": "code",
        "colab": {}
      },
      "source": [
        "inventaire.get('peches') # n'existe pas"
      ],
      "execution_count": 0,
      "outputs": []
    },
    {
      "cell_type": "code",
      "metadata": {
        "id": "IlZRIOPb1Zd_",
        "colab_type": "code",
        "colab": {
          "base_uri": "https://localhost:8080/",
          "height": 34
        },
        "outputId": "8d9183a9-48a1-4e04-895e-108694d02440"
      },
      "source": [
        "inventaire.get('pommes') # pomme existe"
      ],
      "execution_count": 15,
      "outputs": [
        {
          "output_type": "execute_result",
          "data": {
            "text/plain": [
              "100"
            ]
          },
          "metadata": {
            "tags": []
          },
          "execution_count": 15
        }
      ]
    },
    {
      "cell_type": "markdown",
      "metadata": {
        "id": "OC8GzBfW1pBr",
        "colab_type": "text"
      },
      "source": [
        "la méthode **pop()** permet de retirer une clef d'un dictionnaire tout en retournant la valeur associée a la clef."
      ]
    },
    {
      "cell_type": "code",
      "metadata": {
        "id": "njAZZTkf1d7H",
        "colab_type": "code",
        "colab": {
          "base_uri": "https://localhost:8080/",
          "height": 51
        },
        "outputId": "924c4ba2-1968-43ce-a7c8-ec52fc168048"
      },
      "source": [
        "abricots = inventaire.pop(\"abricots\")\n",
        "print(inventaire) # ne contient plus de clef abricots\n",
        "print(abricots) # abricots contient la valeur du dictionnaire"
      ],
      "execution_count": 20,
      "outputs": [
        {
          "output_type": "stream",
          "text": [
            "{'pommes': 100, 'bananes': 80, 'poires': 120}\n",
            "30\n"
          ],
          "name": "stdout"
        }
      ]
    },
    {
      "cell_type": "markdown",
      "metadata": {
        "id": "giJvo0ON2nxR",
        "colab_type": "text"
      },
      "source": [
        "Pour utiliser une boucle for avec un dictionnaire, il est utile d'utiliser la méthode **items()** qui retourne a la fois les clefs et les valeurs"
      ]
    },
    {
      "cell_type": "code",
      "metadata": {
        "id": "pn0mt-wh1oj0",
        "colab_type": "code",
        "colab": {
          "base_uri": "https://localhost:8080/",
          "height": 68
        },
        "outputId": "147023a8-577a-4464-b3a9-16f2426539e8"
      },
      "source": [
        "for key, value in inventaire.items():\n",
        "  print(key, value)"
      ],
      "execution_count": 21,
      "outputs": [
        {
          "output_type": "stream",
          "text": [
            "pommes 100\n",
            "bananes 80\n",
            "poires 120\n"
          ],
          "name": "stdout"
        }
      ]
    },
    {
      "cell_type": "code",
      "metadata": {
        "id": "lvFl1n8Z22Pq",
        "colab_type": "code",
        "colab": {}
      },
      "source": [
        ""
      ],
      "execution_count": 0,
      "outputs": []
    }
  ]
}